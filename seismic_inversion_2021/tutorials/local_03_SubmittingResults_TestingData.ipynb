{
 "cells": [
  {
   "cell_type": "markdown",
   "source": [
    "## Getting testing data coordinates from S3\n",
    "\n",
    "In this notebook we will download a dataframe populated with testing data.\n",
    "\n",
    "However, all values will be blank (NaN).\n",
    "\n",
    "We expect competitors to run their predictive models and fill in the blank locations\n",
    "using their predictions at the IL/XL/TWT locations.\n",
    "\n",
    "There are two blind wells for evaluation.\n",
    "\n",
    "Once results are submitted, we will be calculating R<sup>2</sup> scores with ground truth data\n",
    "and results will be put on the leaderboard."
   ],
   "metadata": {
    "collapsed": false,
    "pycharm": {
     "name": "#%% md\n"
    }
   }
  },
  {
   "cell_type": "markdown",
   "source": [
    "Doing imports."
   ],
   "metadata": {
    "collapsed": false,
    "pycharm": {
     "name": "#%% md\n"
    }
   }
  },
  {
   "cell_type": "code",
   "execution_count": 1,
   "outputs": [],
   "source": [
    "from pandas import read_json"
   ],
   "metadata": {
    "collapsed": false,
    "pycharm": {
     "name": "#%%\n"
    }
   }
  },
  {
   "cell_type": "markdown",
   "source": [
    "## Loading AWS Credentials\n",
    "\n",
    "See Tutorials #1 for setting up credentials on local machines."
   ],
   "metadata": {
    "collapsed": false,
    "pycharm": {
     "name": "#%% md\n"
    }
   },
   "execution_count": 2
  },
  {
   "cell_type": "markdown",
   "source": [
    "## Getting the Blank DataFrame\n",
    "\n",
    "We have the blind wells in the same format as training wells.\n",
    "\n",
    "They have inline, crossline, and two-way time values provided (coordinates).\n",
    "\n",
    "We expect you to run your feature extraction, feature engineering, and predictions around or at\n",
    "these locations and populate this DataFrame without adding/removing or changing the shape.\n",
    "\n",
    "We will then evaluate results comparing these to ground truth data.\n",
    "\n",
    "See the output of this cell for what it looks like.\n",
    "\n",
    "**Any result that is not the same shape as this DataFrame will not be considered.**\n",
    "\n",
    "**Any result that has `NaN` values in the results DataFrame will not be considered.**"
   ],
   "metadata": {
    "collapsed": false,
    "pycharm": {
     "name": "#%% md\n"
    }
   }
  },
  {
   "cell_type": "code",
   "execution_count": null,
   "outputs": [],
   "source": [
    "well_bucket = 's3://sagemaker-gitc2021/poseidon/wells/'\n",
    "well_file = 'poseidon_geoml_testing_wells_blank.json.gz'\n",
    "\n",
    "well_df = read_json(\n",
    "    path_or_buf=well_bucket + well_file,\n",
    "    compression='gzip',\n",
    ")\n",
    "\n",
    "well_df.set_index(['well_id', 'twt'], inplace=True)\n",
    "\n",
    "well_df"
   ],
   "metadata": {
    "collapsed": false,
    "pycharm": {
     "name": "#%%\n"
    }
   }
  },
  {
   "cell_type": "markdown",
   "source": [
    "Below are the statistics. As you can see, the rhob, p_impedance, and s_impedance are blank."
   ],
   "metadata": {
    "collapsed": false,
    "pycharm": {
     "name": "#%% md\n"
    }
   }
  },
  {
   "cell_type": "code",
   "execution_count": 3,
   "outputs": [
    {
     "data": {
      "text/plain": "            inline        xline  rhob  p_impedance  s_impedance\ncount  1773.000000  1773.000000   0.0          0.0          0.0\nmean   3007.407384  1766.345919   NaN          NaN          NaN\nstd     386.799776   584.865566   NaN          NaN          NaN\nmin    2407.176300  1389.007600   NaN          NaN          NaN\n25%    2408.257100  1389.061300   NaN          NaN          NaN\n50%    3256.584400  1389.211300   NaN          NaN          NaN\n75%    3257.002100  2671.080300   NaN          NaN          NaN\nmax    3257.313500  2675.938600   NaN          NaN          NaN",
      "text/html": "<div>\n<style scoped>\n    .dataframe tbody tr th:only-of-type {\n        vertical-align: middle;\n    }\n\n    .dataframe tbody tr th {\n        vertical-align: top;\n    }\n\n    .dataframe thead th {\n        text-align: right;\n    }\n</style>\n<table border=\"1\" class=\"dataframe\">\n  <thead>\n    <tr style=\"text-align: right;\">\n      <th></th>\n      <th>inline</th>\n      <th>xline</th>\n      <th>rhob</th>\n      <th>p_impedance</th>\n      <th>s_impedance</th>\n    </tr>\n  </thead>\n  <tbody>\n    <tr>\n      <th>count</th>\n      <td>1773.000000</td>\n      <td>1773.000000</td>\n      <td>0.0</td>\n      <td>0.0</td>\n      <td>0.0</td>\n    </tr>\n    <tr>\n      <th>mean</th>\n      <td>3007.407384</td>\n      <td>1766.345919</td>\n      <td>NaN</td>\n      <td>NaN</td>\n      <td>NaN</td>\n    </tr>\n    <tr>\n      <th>std</th>\n      <td>386.799776</td>\n      <td>584.865566</td>\n      <td>NaN</td>\n      <td>NaN</td>\n      <td>NaN</td>\n    </tr>\n    <tr>\n      <th>min</th>\n      <td>2407.176300</td>\n      <td>1389.007600</td>\n      <td>NaN</td>\n      <td>NaN</td>\n      <td>NaN</td>\n    </tr>\n    <tr>\n      <th>25%</th>\n      <td>2408.257100</td>\n      <td>1389.061300</td>\n      <td>NaN</td>\n      <td>NaN</td>\n      <td>NaN</td>\n    </tr>\n    <tr>\n      <th>50%</th>\n      <td>3256.584400</td>\n      <td>1389.211300</td>\n      <td>NaN</td>\n      <td>NaN</td>\n      <td>NaN</td>\n    </tr>\n    <tr>\n      <th>75%</th>\n      <td>3257.002100</td>\n      <td>2671.080300</td>\n      <td>NaN</td>\n      <td>NaN</td>\n      <td>NaN</td>\n    </tr>\n    <tr>\n      <th>max</th>\n      <td>3257.313500</td>\n      <td>2675.938600</td>\n      <td>NaN</td>\n      <td>NaN</td>\n      <td>NaN</td>\n    </tr>\n  </tbody>\n</table>\n</div>"
     },
     "execution_count": 3,
     "metadata": {},
     "output_type": "execute_result"
    }
   ],
   "source": [
    "well_df.describe()"
   ],
   "metadata": {
    "collapsed": false,
    "pycharm": {
     "name": "#%%\n"
    }
   }
  },
  {
   "cell_type": "markdown",
   "source": [
    "We will accept results uploaded into these S3 buckets.\n",
    "\n",
    "Please use following paths and file names as a template. The code cell after the\n",
    "explanation will have an example.\n",
    "\n",
    "The units of submitted predictions should be same as original logs, no unit transformation should be\n",
    "necessary. The seismic velocities are in *meters/second*. Unit conversion may not be necessary\n",
    "since it is just a scalar, however, if you like, we recommend converting it to *feet/second*.\n",
    "\n",
    "**Impedances:** *(feet/second) x (grams/cm<sup>3</sup>)* aka. Velocity x Density\n",
    "\n",
    "**Density:** *grams/cm<sup>3</sup>*\n",
    "\n",
    "#### **Intermediate Results:**\n",
    "\n",
    "`bucket =` *`s3://sagemaker-gitc2021/poseidon/wells/submissions/intermediate/`*\n",
    "\n",
    "`file_name =` *`TeamName_Intermediate_Results_YYYYMMDD.json`*\n",
    "\n",
    "#### **Final:**\n",
    "\n",
    "`bucket =` *`s3://sagemaker-gitc2021/poseidon/wells/submissions/final/`*\n",
    "\n",
    "`file_name = `*`TeamName_Final_Results_YYYYMMDD.json`*\n",
    "\n",
    "#### **If you are submitting multiple results per day, please add a 2 digit integer (like 01, 02, etc.) after the Intermediate/Final**\n",
    "Which will look like this: `file_name = `*`TeamName_Intermediate05_Results_YYYYMMDD.json`*\n",
    "\n",
    "Final submissions must be in the `.json` format. This can be achieved by using the\n",
    "following code snippet. This assumes your populated DataFrame variable is named `result`."
   ],
   "metadata": {
    "collapsed": false,
    "pycharm": {
     "name": "#%% md\n"
    }
   }
  },
  {
   "cell_type": "code",
   "execution_count": null,
   "outputs": [],
   "source": [
    "bucket = 's3://sagemaker-gitc2021/poseidon/wells/submissions/intermediate/'\n",
    "\n",
    "file_name = 'MyTeam_Intermediate_Results_20210416.json'\n",
    "\n",
    "# Making sure extension is in the file name.\n",
    "if not file_name.lower().endswith('.json'):\n",
    "    file_name += '.json'\n",
    "\n",
    "my_result.reset_index(inplace=True)\n",
    "my_result.to_json(\n",
    "    path_or_buf=bucket + file_name,\n",
    "    double_precision=4,\n",
    ")"
   ],
   "metadata": {
    "collapsed": false,
    "pycharm": {
     "name": "#%%\n"
    }
   }
  },
  {
   "cell_type": "markdown",
   "source": [
    "This will be our scoring metric:"
   ],
   "metadata": {
    "collapsed": false,
    "pycharm": {
     "name": "#%% md\n"
    }
   }
  },
  {
   "cell_type": "code",
   "execution_count": null,
   "outputs": [],
   "source": [
    "r2_columns = ['p_impedance', 's_impedance', 'rhob']  # Get only relevant data columns\n",
    "not_na = ground_truth[r2_columns].notna().any(axis=1)  # Get any NaN row, so we can exclude NaNs\n",
    "sklearn.metrics.r2_score(y_true=ground_truth[r2_columns][not_na],\n",
    "                         y_pred=team_df[r2_columns][not_na],\n",
    "                         multioutput='variance_weighted',\n",
    "                         )"
   ],
   "metadata": {
    "collapsed": false,
    "pycharm": {
     "name": "#%%\n"
    }
   }
  }
 ],
 "metadata": {
  "kernelspec": {
   "display_name": "Python 3",
   "language": "python",
   "name": "python3"
  },
  "language_info": {
   "codemirror_mode": {
    "name": "ipython",
    "version": 2
   },
   "file_extension": ".py",
   "mimetype": "text/x-python",
   "name": "python",
   "nbconvert_exporter": "python",
   "pygments_lexer": "ipython2",
   "version": "2.7.6"
  }
 },
 "nbformat": 4,
 "nbformat_minor": 0
}